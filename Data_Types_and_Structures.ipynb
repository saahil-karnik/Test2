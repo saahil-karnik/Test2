{
  "nbformat": 4,
  "nbformat_minor": 0,
  "metadata": {
    "colab": {
      "provenance": [],
      "authorship_tag": "ABX9TyMm4RUNZZAx02uzgc5Xv02t",
      "include_colab_link": true
    },
    "kernelspec": {
      "name": "python3",
      "display_name": "Python 3"
    },
    "language_info": {
      "name": "python"
    }
  },
  "cells": [
    {
      "cell_type": "markdown",
      "metadata": {
        "id": "view-in-github",
        "colab_type": "text"
      },
      "source": [
        "<a href=\"https://colab.research.google.com/github/saahil-karnik/Test2/blob/main/Data_Types_and_Structures.ipynb\" target=\"_parent\"><img src=\"https://colab.research.google.com/assets/colab-badge.svg\" alt=\"Open In Colab\"/></a>"
      ]
    },
    {
      "cell_type": "markdown",
      "source": [
        "#Data Types and Structures Questions\n",
        "\n",
        "1) What are data structures, and why are they important?\n",
        "- Data structures are ways of organizing and storing data in a computer so that it can be accessed and modified efficiently.\n",
        "- In Python, common data structures include:\n",
        "a) List - ordered, mutable collection\n",
        "b) Tuple - ordered, immutable collection\n",
        "c) Set - unordered collection of unique elements\n",
        "d) Dictionary - key-value pairs for fast lookup\n",
        "\n",
        "2) Explain the difference between mutable and immutable data types with examples.\n",
        "- In Python, data types are classified into mutable and immutable depending on whether their values can be changed after creation.\n",
        "- 1. Mutable Data Types:\n",
        "a) Can be changed in place\n",
        "b) No new object is created when modified\n",
        "eg: list, dict, set\n",
        "\n",
        "- 2. Immutable Data Types:\n",
        "a) Cannot be changed once created\n",
        "b) Any \"change\" results in a new object\n",
        "eg: int, float, str, bool, tuple\n",
        "\n",
        "3) What are the main differences between lists and tuples in Python?\n",
        "- List: Mutable (can change elements)\t, Uses square brackets , Performance\tslightly slower.\n",
        "-Tuple: Immutable (can't change once created), Uses round brackets,\n",
        "Performance slightly faster.\n",
        "\n",
        "4) Describe how dictionaries store data\n",
        "- A dictionary in Python is a built-in data structure that stores data in key-value pairs, much like a real-life dictionary where you look up a word (key) to find its definition (value).\n",
        "\n",
        "5) Why might you use a set instead of a list in Python?\n",
        "- A set is a built-in data type in Python used to store unordered, unique items. It is especially useful when one cares about uniqueness, fast membership testing, or set operations.\n",
        "\n",
        "6) What is a string in Python, and how is it different from a list?\n",
        "- A string in Python is a sequence of characters enclosed in single, double, or triple quotes. It is an immutable data type — you cannot change it after it is created.\n",
        "\n",
        "7) How do tuples ensure data integrity in Python?\n",
        "- Tuples help ensure data integrity in Python by being immutable. Once created, their contents cannot be changed, added to, or removed. This makes them ideal for storing fixed, reliable data.\n",
        "\n",
        "8) What is a hash table, and how does it relate to dictionaries in Python?\n",
        "- A hash table is a data structure that stores key-value pairs and allows for fast access, insertion, and deletion using a process called hashing.\n",
        "\n",
        "9) Can lists contain different data types in Python?\n",
        "- One of Python's powerful features is that its lists are heterogeneous, meaning you can store mixed data types (integers, strings, booleans, other lists, etc.) in a single list.\n",
        "\n",
        "10) Explain why strings are immutable in Python?\n",
        "- In Python, strings are immutable, meaning once a string is created, you cannot change its content. Any operation that modifies a string actually creates a new string object.\n",
        "\n",
        "11) What advantages do dictionaries offer over lists for certain tasks?\n",
        "- Dictionaries offer fast lookups by keys, key-value mapping, eliminate need for indexing, and better data organization. We should use dictionaries when: we a) want to look up elements by a unique key.\n",
        "b) data naturally fits key-value pairs.\n",
        "c) we want to avoid linear search overhead.\n",
        "\n",
        "12) Describe a scenario where using a tuple would be preferable over a list?\n",
        "- Suppose we want to represent a geographic coordinate like (latitude, longitude). We should use a tuple when data:\n",
        "a) Represents a fixed collection of items.\n",
        "b) Should be immutable for safety or logic reasons.\n",
        "c) Needs to be used as a key in dictionaries or elements of sets.\n",
        "\n",
        "13) How do sets handle duplicate values in Python?\n",
        "- When we add items to a set, Python checks if the item already exists. If it does, the duplicate is ignored. Only one copy of each unique element is kept.\n",
        "\n",
        "14) How does the “in” keyword work differently for lists and dictionaries?\n",
        "- Lists: Checks if the value exists anywhere in the list. Performs a linear search, scanning elements one by one.\n",
        "- Dictionaries: Checks if the key exists in the dictionary. Uses the hash table underneath, so lookup is very fast.\n",
        "\n",
        "15) Can you modify the elements of a tuple? Explain why or why not?\n",
        "- No, you cannot modify the elements of a tuple in Python because tuples are immutable. Once a tuple is created, its content cannot be changed.\n",
        "\n",
        "16) What is a nested dictionary, and give an example of its use case?\n",
        "- A nested dictionary in Python is a dictionary where some values are themselves dictionaries. This allows us to represent more complex, hierarchical data structures. Example Use Case: Storing Student Information. Imagine we want to store details about multiple students, including their personal info and grades. A nested dictionary is suited in this case.\n",
        "\n",
        "17) Describe the time complexity of accessing elements in a dictionary?\n",
        "- Accessing elements in a Python dictionary generally has an average time complexity of O(1), constant time.\n",
        "\n",
        "18) In what situations are lists preferred over dictionaries?\n",
        "- Lists are preferred over dictionaries when: Order matters, we need to access by index, one is working with sequences or collections of similar items.\n",
        "\n",
        "19) Why are dictionaries considered unordered, and how does that affect data retrieval?\n",
        "- Dictionaries are considered unordered because they don't guarantee the insertion order of key-value pairs. Internally, they are implemented purely for fast access via hashing, not for maintaining sequence. When we loop through a dictionary, the order of keys and values can appear random. This means you can't rely on the order in which items are added to the dictionary.\n",
        "\n",
        "20) Explain the difference between a list and a dictionary in terms of data retrieval.\n",
        "- Lists support indexed, positional retrieval. They store ordered collections of elements. Items are accessed using integer indices (starting at 0). Retrieval requires knowing the position of the item.\n",
        "\n",
        "- Dictionaries support key-based retrieval. They store key-value pairs. Items are accessed using unique keys, not positions. Retrieval is fast and direct (O(1) average time) using a hash table."
      ],
      "metadata": {
        "id": "8VyAT5CK_K2z"
      }
    },
    {
      "cell_type": "code",
      "source": [
        "#1) Write a code to create a string with your name and print it\n",
        "\n",
        "name = \"Saahil\"\n",
        "print(name)"
      ],
      "metadata": {
        "colab": {
          "base_uri": "https://localhost:8080/"
        },
        "id": "aZ373AKkxoK2",
        "outputId": "61b7f105-cece-4d05-9557-7f3600bae336"
      },
      "execution_count": null,
      "outputs": [
        {
          "output_type": "stream",
          "name": "stdout",
          "text": [
            "Saahil\n"
          ]
        }
      ]
    },
    {
      "cell_type": "code",
      "source": [
        "#2) Write a code to find the length of the string \"Hello World\"\n",
        "\n",
        "len(\"Hello World\")"
      ],
      "metadata": {
        "colab": {
          "base_uri": "https://localhost:8080/"
        },
        "id": "HYwWFgSpx3ET",
        "outputId": "9bd57a08-8ba7-4928-a053-4c041f4dad52"
      },
      "execution_count": null,
      "outputs": [
        {
          "output_type": "execute_result",
          "data": {
            "text/plain": [
              "11"
            ]
          },
          "metadata": {},
          "execution_count": 3
        }
      ]
    },
    {
      "cell_type": "code",
      "source": [
        "#3) Write a code to slice the first 3 characters from the string \"Python Programming\"\n",
        "\n",
        "string = \"Python Programming\"\n",
        "string[:3]"
      ],
      "metadata": {
        "colab": {
          "base_uri": "https://localhost:8080/",
          "height": 35
        },
        "id": "eZmhRptPx-4V",
        "outputId": "7a30a637-7b7c-4978-c174-a79374cd17fb"
      },
      "execution_count": null,
      "outputs": [
        {
          "output_type": "execute_result",
          "data": {
            "text/plain": [
              "'Pyt'"
            ],
            "application/vnd.google.colaboratory.intrinsic+json": {
              "type": "string"
            }
          },
          "metadata": {},
          "execution_count": 5
        }
      ]
    },
    {
      "cell_type": "code",
      "source": [
        "#4) Write a code to convert the string \"hello\" to uppercase\n",
        "\n",
        "str = \"hello\"\n",
        "str.upper()"
      ],
      "metadata": {
        "colab": {
          "base_uri": "https://localhost:8080/",
          "height": 35
        },
        "id": "M2yUKBLdyYes",
        "outputId": "cfc5fc2c-8a3d-4249-fcc4-80f175ccfce0"
      },
      "execution_count": null,
      "outputs": [
        {
          "output_type": "execute_result",
          "data": {
            "text/plain": [
              "'HELLO'"
            ],
            "application/vnd.google.colaboratory.intrinsic+json": {
              "type": "string"
            }
          },
          "metadata": {},
          "execution_count": 6
        }
      ]
    },
    {
      "cell_type": "code",
      "source": [
        "#5) Write a code to replace the word \"apple\" with \"orange\" in the string \"I like apple\"\n",
        "\n",
        "str = \"I like apple\"\n",
        "str.replace(\"apple\", \"orange\")"
      ],
      "metadata": {
        "colab": {
          "base_uri": "https://localhost:8080/",
          "height": 35
        },
        "id": "CzwleicOywb-",
        "outputId": "86c84548-e0e0-428d-fc4e-79377f6817e3"
      },
      "execution_count": null,
      "outputs": [
        {
          "output_type": "execute_result",
          "data": {
            "text/plain": [
              "'I like orange'"
            ],
            "application/vnd.google.colaboratory.intrinsic+json": {
              "type": "string"
            }
          },
          "metadata": {},
          "execution_count": 7
        }
      ]
    },
    {
      "cell_type": "code",
      "source": [
        "#6) Write a code to create a list with numbers 1 to 5 and print it\n",
        "\n",
        "list = [1,2,3,4,5]\n",
        "print(list)"
      ],
      "metadata": {
        "colab": {
          "base_uri": "https://localhost:8080/"
        },
        "id": "usLXjDlNy-S8",
        "outputId": "2ce6a387-28aa-417d-c2b0-473844034a54"
      },
      "execution_count": null,
      "outputs": [
        {
          "output_type": "stream",
          "name": "stdout",
          "text": [
            "[1, 2, 3, 4, 5]\n"
          ]
        }
      ]
    },
    {
      "cell_type": "code",
      "source": [
        "#7) Write a code to append the number 10 to the list [1, 2, 3, 4]\n",
        "\n",
        "list = [1,2,3,4]\n",
        "list.append(10)\n",
        "print(list)"
      ],
      "metadata": {
        "colab": {
          "base_uri": "https://localhost:8080/"
        },
        "id": "yXfSWq4yzMIn",
        "outputId": "1e77acb4-8632-402f-fa56-d0c9253cdd53"
      },
      "execution_count": null,
      "outputs": [
        {
          "output_type": "stream",
          "name": "stdout",
          "text": [
            "[1, 2, 3, 4, 10]\n"
          ]
        }
      ]
    },
    {
      "cell_type": "code",
      "source": [
        "#8) Write a code to remove the number 3 from the list [1, 2, 3, 4, 5]\n",
        "\n",
        "list = [1,2,3,4,5]\n",
        "list.remove(3)\n",
        "print(list)"
      ],
      "metadata": {
        "colab": {
          "base_uri": "https://localhost:8080/"
        },
        "id": "Ch4y6YCIzbaj",
        "outputId": "077a65a2-d93a-4661-e188-9cef6cdacc8c"
      },
      "execution_count": null,
      "outputs": [
        {
          "output_type": "stream",
          "name": "stdout",
          "text": [
            "[1, 2, 4, 5]\n"
          ]
        }
      ]
    },
    {
      "cell_type": "code",
      "source": [
        "#9) Write a code to access the second element in the list ['a', 'b', 'c', 'd']\n",
        "\n",
        "list = ['a', 'b', 'c', 'd']\n",
        "list[1]"
      ],
      "metadata": {
        "colab": {
          "base_uri": "https://localhost:8080/",
          "height": 35
        },
        "id": "mQkt53mnzxkh",
        "outputId": "f3a6c321-102c-4c45-ca15-366b8a2c175f"
      },
      "execution_count": null,
      "outputs": [
        {
          "output_type": "execute_result",
          "data": {
            "text/plain": [
              "'b'"
            ],
            "application/vnd.google.colaboratory.intrinsic+json": {
              "type": "string"
            }
          },
          "metadata": {},
          "execution_count": 15
        }
      ]
    },
    {
      "cell_type": "code",
      "source": [
        "#10) Write a code to reverse the list [10, 20, 30, 40, 50].\n",
        "\n",
        "list = [10, 20, 30, 40, 50]\n",
        "list[::-1]"
      ],
      "metadata": {
        "colab": {
          "base_uri": "https://localhost:8080/"
        },
        "id": "CvwL3VAF0Ea8",
        "outputId": "803576c6-da6a-4fe3-e442-20b6c1eaaad6"
      },
      "execution_count": null,
      "outputs": [
        {
          "output_type": "execute_result",
          "data": {
            "text/plain": [
              "[50, 40, 30, 20, 10]"
            ]
          },
          "metadata": {},
          "execution_count": 16
        }
      ]
    },
    {
      "cell_type": "code",
      "source": [
        "#11) Write a code to create a tuple with the elements 100, 200, 300 and print it.\n",
        "\n",
        "tuple = (100,200,300)\n",
        "print (tuple)"
      ],
      "metadata": {
        "colab": {
          "base_uri": "https://localhost:8080/"
        },
        "id": "Ua_i4qYy0QBY",
        "outputId": "fbf5496b-9eb0-4d73-a70a-9dbdf78b4778"
      },
      "execution_count": null,
      "outputs": [
        {
          "output_type": "stream",
          "name": "stdout",
          "text": [
            "(100, 200, 300)\n"
          ]
        }
      ]
    },
    {
      "cell_type": "code",
      "source": [
        "#12) Write a code to access the second-to-last element of the tuple ('red', 'green', 'blue', 'yellow')\n",
        "\n",
        "tuple = ('red', 'green', 'blue', 'yellow')\n",
        "tuple[-2]"
      ],
      "metadata": {
        "colab": {
          "base_uri": "https://localhost:8080/",
          "height": 35
        },
        "id": "tqOEm7P_0egT",
        "outputId": "565ac19d-a5ca-48a8-8d6e-aeed259e638e"
      },
      "execution_count": null,
      "outputs": [
        {
          "output_type": "execute_result",
          "data": {
            "text/plain": [
              "'blue'"
            ],
            "application/vnd.google.colaboratory.intrinsic+json": {
              "type": "string"
            }
          },
          "metadata": {},
          "execution_count": 18
        }
      ]
    },
    {
      "cell_type": "code",
      "source": [
        "#13) Write a code to find the minimum number in the tuple (10, 20, 5, 15)\n",
        "\n",
        "tuple = (10, 20, 5, 15)\n",
        "min(tuple)"
      ],
      "metadata": {
        "colab": {
          "base_uri": "https://localhost:8080/"
        },
        "id": "j_JRnhTz0w8N",
        "outputId": "56b37748-6063-44aa-bbb4-8cfc183163fa"
      },
      "execution_count": null,
      "outputs": [
        {
          "output_type": "execute_result",
          "data": {
            "text/plain": [
              "5"
            ]
          },
          "metadata": {},
          "execution_count": 19
        }
      ]
    },
    {
      "cell_type": "code",
      "source": [
        "#14) Write a code to find the index of the element \"cat\" in the tuple ('dog', 'cat', 'rabbit').\n",
        "\n",
        "tuple = ('dog', 'cat', 'rabbit')\n",
        "tuple.index('cat')"
      ],
      "metadata": {
        "colab": {
          "base_uri": "https://localhost:8080/"
        },
        "id": "44rAmtJP06ga",
        "outputId": "50dda8fe-bb61-4a42-fd3d-013c561ce4f2"
      },
      "execution_count": null,
      "outputs": [
        {
          "output_type": "execute_result",
          "data": {
            "text/plain": [
              "1"
            ]
          },
          "metadata": {},
          "execution_count": 20
        }
      ]
    },
    {
      "cell_type": "code",
      "source": [
        "#15) Write a code to create a tuple containing three different fruits and check if \"kiwi\" is in it.\n",
        "\n",
        "tuple = ('apple', 'banana', 'chickoo')\n",
        "\"kiwi\" in tuple"
      ],
      "metadata": {
        "colab": {
          "base_uri": "https://localhost:8080/"
        },
        "id": "sipZmyMU1HbX",
        "outputId": "e436fa5d-f0a8-453e-f1e4-ca1119b3fb8a"
      },
      "execution_count": null,
      "outputs": [
        {
          "output_type": "execute_result",
          "data": {
            "text/plain": [
              "False"
            ]
          },
          "metadata": {},
          "execution_count": 21
        }
      ]
    },
    {
      "cell_type": "code",
      "source": [
        "#16) Write a code to create a set with the elements 'a', 'b', 'c' and print it.\n",
        "\n",
        "set = {'a','b','c'}\n",
        "print(set)"
      ],
      "metadata": {
        "colab": {
          "base_uri": "https://localhost:8080/"
        },
        "id": "4kHrA4xLvXxI",
        "outputId": "bbd3f87d-d9c4-4d54-bf0f-dc85ff01c3a6"
      },
      "execution_count": null,
      "outputs": [
        {
          "output_type": "stream",
          "name": "stdout",
          "text": [
            "{'b', 'c', 'a'}\n"
          ]
        }
      ]
    },
    {
      "cell_type": "code",
      "source": [
        "#17) Write a code to clear all elements from the set {1, 2, 3, 4, 5}.\n",
        "\n",
        "set = {1, 2, 3, 4, 5}\n",
        "set.clear()\n",
        "print(set)"
      ],
      "metadata": {
        "colab": {
          "base_uri": "https://localhost:8080/"
        },
        "id": "hCkW5Daqvnor",
        "outputId": "983c730d-32ff-42de-8765-57e5f83dcb03"
      },
      "execution_count": null,
      "outputs": [
        {
          "output_type": "stream",
          "name": "stdout",
          "text": [
            "set()\n"
          ]
        }
      ]
    },
    {
      "cell_type": "code",
      "source": [
        "#18) Write a code to remove the element 4 from the set {1, 2, 3, 4}\n",
        "\n",
        "set= {1, 2, 3, 4}\n",
        "set.remove(4)\n",
        "print(set)"
      ],
      "metadata": {
        "colab": {
          "base_uri": "https://localhost:8080/"
        },
        "id": "E9dQnjKUwCVm",
        "outputId": "53e41108-33b8-40f4-ee6d-04cb783c7413"
      },
      "execution_count": null,
      "outputs": [
        {
          "output_type": "stream",
          "name": "stdout",
          "text": [
            "{1, 2, 3}\n"
          ]
        }
      ]
    },
    {
      "cell_type": "code",
      "source": [
        "#19) Write a code to find the union of two sets {1, 2, 3} and {3, 4, 5}.\n",
        "\n",
        "set1 = {1,2,3}\n",
        "set2 = {3,4,5}\n",
        "set1.union(set2)"
      ],
      "metadata": {
        "colab": {
          "base_uri": "https://localhost:8080/"
        },
        "id": "zLIeAHhSwP7C",
        "outputId": "bbc429f4-5b27-48d9-c8c6-b0d9ae7f1338"
      },
      "execution_count": null,
      "outputs": [
        {
          "output_type": "execute_result",
          "data": {
            "text/plain": [
              "{1, 2, 3, 4, 5}"
            ]
          },
          "metadata": {},
          "execution_count": 5
        }
      ]
    },
    {
      "cell_type": "code",
      "source": [
        "#20) Write a code to find the intersection of two sets {1, 2, 3} and {2, 3, 4}.\n",
        "\n",
        "set1 = {1,2,3}\n",
        "set2 = {2,3,4}\n",
        "set1.intersection(set2)"
      ],
      "metadata": {
        "colab": {
          "base_uri": "https://localhost:8080/"
        },
        "id": "sC-GLHYlwgW0",
        "outputId": "2c72082c-5d89-4a2b-f7b1-0e2f20bd5a49"
      },
      "execution_count": null,
      "outputs": [
        {
          "output_type": "execute_result",
          "data": {
            "text/plain": [
              "{2, 3}"
            ]
          },
          "metadata": {},
          "execution_count": 6
        }
      ]
    },
    {
      "cell_type": "code",
      "source": [
        "#21) Write a code to create a dictionary with the keys \"name\", \"age\", and \"city\", and print it.\n",
        "\n",
        "dict = {\"name\":\"Saahil\",\"age\":26,\"city\":\"Thane\"}\n",
        "print(dict)"
      ],
      "metadata": {
        "colab": {
          "base_uri": "https://localhost:8080/"
        },
        "id": "ibEQJzGuwsCp",
        "outputId": "92014111-b186-4054-df1c-d0aba8ea3011"
      },
      "execution_count": null,
      "outputs": [
        {
          "output_type": "stream",
          "name": "stdout",
          "text": [
            "{'name': 'Saahil', 'age': 26, 'city': 'Thane'}\n"
          ]
        }
      ]
    },
    {
      "cell_type": "code",
      "source": [
        "#22) Write a code to add a new key-value pair \"country\": \"USA\" to the dictionary {'name': 'John', 'age': 25}\n",
        "\n",
        "dict = {'name': 'John', 'age': 25}\n",
        "dict[\"country\"]=\"USA\"\n",
        "print(dict)"
      ],
      "metadata": {
        "colab": {
          "base_uri": "https://localhost:8080/"
        },
        "id": "miO0Sy1FxNXM",
        "outputId": "3bf3d109-5429-45a2-bf92-a88e904c20b7"
      },
      "execution_count": null,
      "outputs": [
        {
          "output_type": "stream",
          "name": "stdout",
          "text": [
            "{'name': 'John', 'age': 25, 'country': 'USA'}\n"
          ]
        }
      ]
    },
    {
      "cell_type": "code",
      "source": [
        "#23) Write a code to access the value associated with the key \"name\" in the dictionary {'name': 'Alice', 'age': 30}.\n",
        "\n",
        "dict = {'name': 'Alice', 'age': 30}\n",
        "dict[\"name\"]"
      ],
      "metadata": {
        "colab": {
          "base_uri": "https://localhost:8080/",
          "height": 35
        },
        "id": "oCp3liB9xtIJ",
        "outputId": "6eb254ef-7008-450c-b02d-7877b9fdd29e"
      },
      "execution_count": null,
      "outputs": [
        {
          "output_type": "execute_result",
          "data": {
            "text/plain": [
              "'Alice'"
            ],
            "application/vnd.google.colaboratory.intrinsic+json": {
              "type": "string"
            }
          },
          "metadata": {},
          "execution_count": 10
        }
      ]
    },
    {
      "cell_type": "code",
      "source": [
        "#24) Write a code to remove the key \"age\" from the dictionary {'name': 'Bob', 'age': 22, 'city': 'New York'}\n",
        "\n",
        "dict = {'name': 'Bob', 'age': 22, 'city': 'New York'}\n",
        "dict.pop(\"age\")\n",
        "print(dict)"
      ],
      "metadata": {
        "colab": {
          "base_uri": "https://localhost:8080/"
        },
        "id": "PeSe475fx6vs",
        "outputId": "bf7097fc-de20-4269-96e3-da5d24841c1d"
      },
      "execution_count": null,
      "outputs": [
        {
          "output_type": "stream",
          "name": "stdout",
          "text": [
            "{'name': 'Bob', 'city': 'New York'}\n"
          ]
        }
      ]
    },
    {
      "cell_type": "code",
      "source": [
        "#25) Write a code to check if the key \"city\" exists in the dictionary {'name': 'Alice', 'city': 'Paris'}.\n",
        "\n",
        "dict = {'name': 'Alice', 'city': 'Paris'}\n",
        "\"city\" in dict"
      ],
      "metadata": {
        "colab": {
          "base_uri": "https://localhost:8080/"
        },
        "id": "BtIQ4qgDyQNE",
        "outputId": "44a69004-83da-46a2-cbb3-e6dc3350aaee"
      },
      "execution_count": null,
      "outputs": [
        {
          "output_type": "execute_result",
          "data": {
            "text/plain": [
              "True"
            ]
          },
          "metadata": {},
          "execution_count": 13
        }
      ]
    },
    {
      "cell_type": "code",
      "source": [
        "#26) Write a code to create a list, a tuple, and a dictionary, and print them all.\n",
        "my_list = [10, 20, 30]\n",
        "my_tuple = ('apple', 'banana', 'chickoo')\n",
        "my_dict = {'name': 'Saahil', 'age': 26, 'city': 'Thane'}\n",
        "\n",
        "print(my_list)\n",
        "print(my_tuple)\n",
        "print(my_dict)\n"
      ],
      "metadata": {
        "colab": {
          "base_uri": "https://localhost:8080/"
        },
        "id": "xAKnCITRygwR",
        "outputId": "9d86513a-5160-4ab6-d954-f1fc2f0cfa78"
      },
      "execution_count": null,
      "outputs": [
        {
          "output_type": "stream",
          "name": "stdout",
          "text": [
            "[10, 20, 30]\n",
            "('apple', 'banana', 'chickoo')\n",
            "{'name': 'Saahil', 'age': 26, 'city': 'Thane'}\n"
          ]
        }
      ]
    },
    {
      "cell_type": "code",
      "source": [
        "#27)  Write a code to create a list of 5 random numbers between 1 and 100, sort it in ascending order, and print the result\n",
        "\n",
        "import random\n",
        "\n",
        "random_num = [random.randint(1, 100) for _ in range(5)]\n",
        "random_num.sort()\n",
        "print(random_num)"
      ],
      "metadata": {
        "colab": {
          "base_uri": "https://localhost:8080/"
        },
        "id": "GcCWVShey5cb",
        "outputId": "c2b5ef6e-e8cf-4b7b-a2f4-ca6cfc7639d9"
      },
      "execution_count": null,
      "outputs": [
        {
          "output_type": "stream",
          "name": "stdout",
          "text": [
            "[63, 68, 80, 82, 89]\n"
          ]
        }
      ]
    },
    {
      "cell_type": "code",
      "source": [
        "#28) Write a code to create a list with strings and print the element at the third index.\n",
        "\n",
        "list = ['apple','banana','cherry']\n",
        "list[2]"
      ],
      "metadata": {
        "colab": {
          "base_uri": "https://localhost:8080/",
          "height": 35
        },
        "id": "crPjbtUNz8zl",
        "outputId": "10dd48f9-f228-48ab-bcdf-7307ea6a6d33"
      },
      "execution_count": null,
      "outputs": [
        {
          "output_type": "execute_result",
          "data": {
            "text/plain": [
              "'cherry'"
            ],
            "application/vnd.google.colaboratory.intrinsic+json": {
              "type": "string"
            }
          },
          "metadata": {},
          "execution_count": 20
        }
      ]
    },
    {
      "cell_type": "code",
      "source": [
        "#29) Write a code to combine two dictionaries into one and print the result.\n",
        "\n",
        "my_dict1 = {'a':1,'b':2}\n",
        "my_dict2 = {'c':3,'d':4}\n",
        "\n",
        "my_dict1.update(my_dict2)\n",
        "print(my_dict1)"
      ],
      "metadata": {
        "colab": {
          "base_uri": "https://localhost:8080/"
        },
        "id": "nPsTNOdK0Mgl",
        "outputId": "21d73587-93e5-4c20-f7aa-755a77402ddc"
      },
      "execution_count": null,
      "outputs": [
        {
          "output_type": "stream",
          "name": "stdout",
          "text": [
            "{'a': 1, 'b': 2, 'c': 3, 'd': 4}\n"
          ]
        }
      ]
    },
    {
      "cell_type": "code",
      "source": [
        "#30) Write a code to convert a list of strings into a set\n",
        "\n",
        "employee_list = [\"apple\",\"banana\",\"cherry\"]\n",
        "employee_set = {name for name in employee_list}\n",
        "print(employee_set)\n"
      ],
      "metadata": {
        "colab": {
          "base_uri": "https://localhost:8080/"
        },
        "id": "5yQoSXnX1i_7",
        "outputId": "9236e309-4095-422f-e09d-b60ca56ca1e2"
      },
      "execution_count": null,
      "outputs": [
        {
          "output_type": "stream",
          "name": "stdout",
          "text": [
            "{'banana', 'apple', 'cherry'}\n"
          ]
        }
      ]
    }
  ]
}